{
 "cells": [
  {
   "cell_type": "code",
   "execution_count": 15,
   "metadata": {
    "collapsed": false
   },
   "outputs": [
    {
     "name": "stdout",
     "output_type": "stream",
     "text": [
      "[[ 0.  0.]\n",
      " [ 0.  0.]]\n",
      "<class 'numpy.ndarray'>\n",
      "(2, 2)\n",
      "float64\n"
     ]
    }
   ],
   "source": [
    "#this is the practise for a simple 2 by 2 array\n",
    "import numpy as np\n",
    "test=np.ndarray(shape=(2,2), dtype=float, order='F')\n",
    "print(test)\n",
    "print(type(test))\n",
    "print(test.shape)\n",
    "print(test.dtype)"
   ]
  },
  {
   "cell_type": "code",
   "execution_count": 17,
   "metadata": {
    "collapsed": false
   },
   "outputs": [
    {
     "data": {
      "text/plain": [
       "array([2, 3])"
      ]
     },
     "execution_count": 17,
     "metadata": {},
     "output_type": "execute_result"
    }
   ],
   "source": [
    "np.ndarray((2,), buffer=np.array([1,2,3,4,5,6,7,8,9,10]), \n",
    "           offset=np.int_().itemsize,dtype=int)\n",
    "# offset = 1*itemsize, i.e. skip first element"
   ]
  },
  {
   "cell_type": "code",
   "execution_count": 81,
   "metadata": {
    "collapsed": false
   },
   "outputs": [
    {
     "name": "stdout",
     "output_type": "stream",
     "text": [
      "[[1 2 3 4]\n",
      " [4 5 6 7]]\n",
      "[2 5]\n",
      "[2 5]\n",
      "[9 5]\n",
      "x.flags   C_CONTIGUOUS : False\n",
      "  F_CONTIGUOUS : True\n",
      "  OWNDATA : True\n",
      "  WRITEABLE : True\n",
      "  ALIGNED : True\n",
      "  UPDATEIFCOPY : False\n",
      "x.shape (2, 4)\n",
      "x.strides (8, 16)\n",
      "x.ndim 2\n",
      "x.size 8\n",
      "x.itemsize 8\n",
      "x.nbytes 64\n",
      "x.base None\n",
      "x.transpose [[1 4]\n",
      " [9 5]\n",
      " [3 6]\n",
      " [4 7]]\n",
      "x.flat <numpy.flatiter object at 0x101886c00>\n",
      "<numpy.flatiter object at 0x10124a600>\n"
     ]
    }
   ],
   "source": [
    "#this is the practise for a simple 2 by 4 array\n",
    "x = np.array([[1, 2, 3, 4], [4, 5, 6, 7]], np.int64,order='F' )\n",
    "print(x)\n",
    "x[1, 2]\n",
    "x.shape\n",
    "x.dtype\n",
    "y = x[:,1]\n",
    "print(y)\n",
    "#y = x[1,:]\n",
    "print(y)\n",
    "y[0] = 9\n",
    "print(y)\n",
    "#print(x)\n",
    "print(\"x.flags\",x.flags)\n",
    "print(\"x.shape\",x.shape)\n",
    "x.shape[0]\n",
    "print(\"x.strides\",x.strides)\n",
    "print(\"x.ndim\",x.ndim)\n",
    "print(\"x.size\",x.size)\n",
    "print(\"x.itemsize\",x.itemsize)\n",
    "print(\"x.nbytes\",x.nbytes)\n",
    "print(\"x.base\",x.base)\n",
    "print(\"x.transpose\",x.T)\n",
    "print(\"x.flat\",x.flat)\n",
    "flat_x=x.flat\n",
    "print(flat_x)"
   ]
  },
  {
   "cell_type": "code",
   "execution_count": 79,
   "metadata": {
    "collapsed": false
   },
   "outputs": [
    {
     "name": "stdout",
     "output_type": "stream",
     "text": [
      "[[[1 2 3 4]\n",
      "  [4 5 6 7]]\n",
      "\n",
      " [[1 2 3 4]\n",
      "  [4 5 6 7]]\n",
      "\n",
      " [[1 2 3 4]\n",
      "  [4 5 6 7]]]\n",
      "-----\n",
      "1\n",
      "-----\n",
      "y [[4 5 6 7]\n",
      " [4 5 6 7]\n",
      " [4 5 6 7]]\n",
      "x.flags   C_CONTIGUOUS : True\n",
      "  F_CONTIGUOUS : False\n",
      "  OWNDATA : True\n",
      "  WRITEABLE : True\n",
      "  ALIGNED : True\n",
      "  UPDATEIFCOPY : False\n",
      "x.shape (3, 2, 4)\n",
      "x.strides (16, 8, 2)\n",
      "x.ndim 3\n",
      "x.size 24\n",
      "x.itemsize 2\n",
      "x.nbytes 48\n",
      "x.base None\n",
      "3\n",
      "2\n",
      "4\n",
      "x.transpose [[[1 1 1]\n",
      "  [9 4 4]]\n",
      "\n",
      " [[2 2 2]\n",
      "  [9 5 5]]\n",
      "\n",
      " [[3 3 3]\n",
      "  [9 6 6]]\n",
      "\n",
      " [[4 4 4]\n",
      "  [9 7 7]]]\n"
     ]
    }
   ],
   "source": [
    "#this is the practise for a simple 3X2X4 array\n",
    "x = np.array([[[1, 2, 3, 4], [4, 5, 6, 7]],[[1, 2, 3, 4], [4, 5, 6, 7]],[[1, 2, 3, 4], [4, 5, 6, 7]]], np.int16)\n",
    "print(x)\n",
    "print(\"-----\")\n",
    "print(x[0,0,0])\n",
    "print(\"-----\")\n",
    "#x.shape\n",
    "#x.dtype\n",
    "y = x[:,1]\n",
    "print(\"y\", y)\n",
    "#y = x[1,:]\n",
    "#print(y)\n",
    "y[0] = 9\n",
    "#print(y)\n",
    "#print(x)\n",
    "print(\"x.flags\",x.flags)\n",
    "print(\"x.shape\",x.shape)\n",
    "x.shape[0]\n",
    "print(\"x.strides\",x.strides)\n",
    "print(\"x.ndim\",x.ndim)\n",
    "print(\"x.size\",x.size)\n",
    "print(\"x.itemsize\",x.itemsize)\n",
    "print(\"x.nbytes\",x.nbytes)\n",
    "print(\"x.base\",x.base)\n",
    "for i in range(x.ndim):\n",
    "    print(x.shape[i])\n",
    "print(\"x.transpose\",x.T)"
   ]
  },
  {
   "cell_type": "code",
   "execution_count": 87,
   "metadata": {
    "collapsed": false
   },
   "outputs": [
    {
     "name": "stdout",
     "output_type": "stream",
     "text": [
      "[[[ 0  1  2]\n",
      "  [ 3  4  5]\n",
      "  [ 6  7  8]]\n",
      "\n",
      " [[ 9 10 11]\n",
      "  [12 13 14]\n",
      "  [15 16 17]]\n",
      "\n",
      " [[18 19 20]\n",
      "  [21 22 23]\n",
      "  [24 25 26]]]\n",
      "x.flags   C_CONTIGUOUS : True\n",
      "  F_CONTIGUOUS : False\n",
      "  OWNDATA : True\n",
      "  WRITEABLE : True\n",
      "  ALIGNED : True\n",
      "  UPDATEIFCOPY : False\n",
      "x.shape (3, 3, 3)\n",
      "x.strides (72, 24, 8)\n",
      "x.ndim 3\n",
      "x.size 27\n",
      "x.itemsize 8\n",
      "x.nbytes 216\n",
      "x.base None\n",
      "3\n",
      "3\n",
      "3\n",
      "x.transpose [[[ 0  9 18]\n",
      "  [ 3 12 21]\n",
      "  [ 6 15 24]]\n",
      "\n",
      " [[ 1 10 19]\n",
      "  [ 4 13 22]\n",
      "  [ 7 16 25]]\n",
      "\n",
      " [[ 2 11 20]\n",
      "  [ 5 14 23]\n",
      "  [ 8 17 26]]]\n",
      "[[[ 0  1  2]\n",
      "  [ 3  4  5]\n",
      "  [ 6  7  8]]\n",
      "\n",
      " [[ 9 10 11]\n",
      "  [12 13 14]\n",
      "  [15 16 17]]\n",
      "\n",
      " [[18 19 20]\n",
      "  [21 22 23]\n",
      "  [24 25 26]]]\n"
     ]
    },
    {
     "data": {
      "text/plain": [
       "(array([[27, 30, 33],\n",
       "        [36, 39, 42],\n",
       "        [45, 48, 51]]), array([[ 9, 12, 15],\n",
       "        [36, 39, 42],\n",
       "        [63, 66, 69]]), array([[ 3, 12, 21],\n",
       "        [30, 39, 48],\n",
       "        [57, 66, 75]]))"
      ]
     },
     "execution_count": 87,
     "metadata": {},
     "output_type": "execute_result"
    }
   ],
   "source": [
    "x=np.array([[[ 0,  1,  2],\n",
    "        [ 3,  4,  5],\n",
    "        [ 6,  7,  8]],\n",
    "       [[ 9, 10, 11],\n",
    "        [12, 13, 14],\n",
    "        [15, 16, 17]],\n",
    "       [[18, 19, 20],\n",
    "        [21, 22, 23],\n",
    "        [24, 25, 26]]])\n",
    "print(x)\n",
    "print(\"x.flags\",x.flags)\n",
    "print(\"x.shape\",x.shape)\n",
    "x.shape[0]\n",
    "print(\"x.strides\",x.strides)\n",
    "print(\"x.ndim\",x.ndim)\n",
    "print(\"x.size\",x.size)\n",
    "print(\"x.itemsize\",x.itemsize)\n",
    "print(\"x.nbytes\",x.nbytes)\n",
    "print(\"x.base\",x.base)\n",
    "for i in range(x.ndim):\n",
    "    print(x.shape[i])\n",
    "print(\"x.transpose\",x.T)\n",
    "print(x)\n",
    "x.sum(0), x.sum(1), x.sum(2)"
   ]
  },
  {
   "cell_type": "code",
   "execution_count": 88,
   "metadata": {
    "collapsed": false
   },
   "outputs": [
    {
     "name": "stdout",
     "output_type": "stream",
     "text": [
      "[[ 0.  0.]\n",
      " [ 0.  0.]\n",
      " [ 0.  0.]\n",
      " [ 0.  0.]\n",
      " [ 0.  0.]\n",
      " [ 0.  0.]\n",
      " [ 0.  0.]\n",
      " [ 0.  0.]\n",
      " [ 0.  0.]\n",
      " [ 0.  0.]]\n"
     ]
    }
   ],
   "source": [
    "x = np.zeros((10, 2))\n",
    "print(x)"
   ]
  },
  {
   "cell_type": "code",
   "execution_count": 89,
   "metadata": {
    "collapsed": false
   },
   "outputs": [
    {
     "name": "stdout",
     "output_type": "stream",
     "text": [
      "x.flags   C_CONTIGUOUS : True\n",
      "  F_CONTIGUOUS : False\n",
      "  OWNDATA : True\n",
      "  WRITEABLE : True\n",
      "  ALIGNED : True\n",
      "  UPDATEIFCOPY : False\n",
      "x.shape (10, 2)\n",
      "x.strides (16, 8)\n",
      "x.ndim 2\n",
      "x.size 20\n",
      "x.itemsize 8\n",
      "x.nbytes 160\n",
      "x.base None\n",
      "10\n",
      "2\n",
      "x.transpose [[ 0.  0.  0.  0.  0.  0.  0.  0.  0.  0.]\n",
      " [ 0.  0.  0.  0.  0.  0.  0.  0.  0.  0.]]\n",
      "[[ 0.  0.]\n",
      " [ 0.  0.]\n",
      " [ 0.  0.]\n",
      " [ 0.  0.]\n",
      " [ 0.  0.]\n",
      " [ 0.  0.]\n",
      " [ 0.  0.]\n",
      " [ 0.  0.]\n",
      " [ 0.  0.]\n",
      " [ 0.  0.]]\n"
     ]
    }
   ],
   "source": [
    "print(\"x.flags\",x.flags)\n",
    "print(\"x.shape\",x.shape)\n",
    "x.shape[0]\n",
    "print(\"x.strides\",x.strides)\n",
    "print(\"x.ndim\",x.ndim)\n",
    "print(\"x.size\",x.size)\n",
    "print(\"x.itemsize\",x.itemsize)\n",
    "print(\"x.nbytes\",x.nbytes)\n",
    "print(\"x.base\",x.base)\n",
    "for i in range(x.ndim):\n",
    "    print(x.shape[i])\n",
    "print(\"x.transpose\",x.T)\n",
    "print(x)"
   ]
  },
  {
   "cell_type": "code",
   "execution_count": 92,
   "metadata": {
    "collapsed": false
   },
   "outputs": [
    {
     "name": "stdout",
     "output_type": "stream",
     "text": [
      "[0 1 2 3 4 5]\n",
      "[[0 1]\n",
      " [2 3]\n",
      " [4 5]]\n"
     ]
    }
   ],
   "source": [
    "x = np.arange(6)\n",
    "print(x)\n",
    "x = np.arange(6).reshape((3, 2))\n",
    "print(x)"
   ]
  },
  {
   "cell_type": "code",
   "execution_count": 97,
   "metadata": {
    "collapsed": false
   },
   "outputs": [
    {
     "name": "stdout",
     "output_type": "stream",
     "text": [
      "[[[158  59 133  35 224]\n",
      "  [107  36 152 215 186]\n",
      "  [103   5 246  87  63]\n",
      "  [223 127 203  88 255]]\n",
      "\n",
      " [[253 170 227 226  69]\n",
      "  [143  51   5 250 242]\n",
      "  [ 80 105 177 222 219]\n",
      "  [130 149 254  20 179]]\n",
      "\n",
      " [[ 71  55 110   0 183]\n",
      "  [204 132 115 178  32]\n",
      "  [115 168 176 126  72]\n",
      "  [ 16 122 252 153  79]]]\n"
     ]
    }
   ],
   "source": [
    "import random\n",
    "import numpy as np\n",
    "test=np.ndarray(shape=(3,4,5), dtype=int, order='C')\n",
    "#print(test)\n",
    "for i in range(len(test)):\n",
    "    #print(i)\n",
    "    for j in range(len(test[0])):\n",
    "        for k in range(len(test[0][0])):\n",
    "            test[i,j,k] = random.randint(0, 255) \n",
    "print(test)\n"
   ]
  },
  {
   "cell_type": "code",
   "execution_count": 100,
   "metadata": {
    "collapsed": false
   },
   "outputs": [
    {
     "name": "stdout",
     "output_type": "stream",
     "text": [
      "[[[161   9  19 ..., 248 132 233]\n",
      "  [238 153 108 ...,  86 147 181]\n",
      "  [188 131 138 ..., 201 136 176]\n",
      "  ..., \n",
      "  [ 50 118  12 ...,  97 231 149]\n",
      "  [ 22  30 131 ..., 134 121  43]\n",
      "  [ 58  41 238 ...,  89 137  80]]\n",
      "\n",
      " [[ 54 104 101 ...,  10 141 155]\n",
      "  [100  67 222 ..., 107  73 177]\n",
      "  [186 145 224 ..., 217 116 118]\n",
      "  ..., \n",
      "  [143  37  39 ..., 216 166  17]\n",
      "  [ 21  47 168 ..., 160  20 170]\n",
      "  [102  82  29 ...,  84 178 167]]\n",
      "\n",
      " [[242  26 182 ..., 209 228 210]\n",
      "  [177 248 103 ..., 176 199 140]\n",
      "  [216 120  10 ..., 156 133 162]\n",
      "  ..., \n",
      "  [243 180 189 ..., 237 116 197]\n",
      "  [ 59 145 166 ...,  41 241 175]\n",
      "  [209 101 189 ..., 124 158 160]]\n",
      "\n",
      " ..., \n",
      " [[ 31  94 170 ...,  45 207 167]\n",
      "  [246 185  50 ..., 240  78 158]\n",
      "  [252 120 176 ...,   7  11 128]\n",
      "  ..., \n",
      "  [ 46  59 137 ..., 116  22 173]\n",
      "  [188 118 232 ..., 124 107 250]\n",
      "  [ 92  62  89 ..., 130 250 245]]\n",
      "\n",
      " [[ 57  47  61 ..., 207   5 197]\n",
      "  [145 191 114 ...,  39 143 159]\n",
      "  [190  54 224 ...,  71 152  65]\n",
      "  ..., \n",
      "  [ 20 187 226 ..., 203 129 108]\n",
      "  [169  93 204 ...,  96 152  78]\n",
      "  [131 159 108 ..., 238 220  87]]\n",
      "\n",
      " [[240  35 103 ..., 161  80 183]\n",
      "  [ 11 204  18 ..., 219 226 171]\n",
      "  [202 242   0 ..., 164 135  91]\n",
      "  ..., \n",
      "  [ 18   8 162 ..., 219  15  69]\n",
      "  [138 173 228 ...,  39 111 191]\n",
      "  [106  27 132 ..., 159 163 191]]]\n"
     ]
    },
    {
     "data": {
      "image/png": "[encoded data removed]",
      "text/plain": [
       "<matplotlib.figure.Figure at 0x1050d74e0>"
      ]
     },
     "metadata": {},
     "output_type": "display_data"
    }
   ],
   "source": [
    "import random\n",
    "import numpy as np\n",
    "import matplotlib.pyplot as plt\n",
    "test=np.ndarray(shape=(9,28,28), dtype=int, order='C')\n",
    "#print(test)\n",
    "for i in range(len(test)):\n",
    "    #print(i)\n",
    "    for j in range(len(test[0])):\n",
    "        for k in range(len(test[0][0])):\n",
    "            test[i,j,k] = random.randint(0, 255) \n",
    "print(test)\n",
    "\n",
    "for i in range(9):\n",
    "    plt.subplot(331+i)\n",
    "    plt.imshow(test[i], cmap=plt.get_cmap('gray'))\n",
    "plt.show()\n"
   ]
  },
  {
   "cell_type": "code",
   "execution_count": null,
   "metadata": {
    "collapsed": true
   },
   "outputs": [],
   "source": []
  }
 ],
 "metadata": {
  "kernelspec": {
   "display_name": "Python 3",
   "language": "python",
   "name": "python3"
  },
  "language_info": {
   "codemirror_mode": {
    "name": "ipython",
    "version": 3
   },
   "file_extension": ".py",
   "mimetype": "text/x-python",
   "name": "python",
   "nbconvert_exporter": "python",
   "pygments_lexer": "ipython3",
   "version": "3.5.3"
  }
 },
 "nbformat": 4,
 "nbformat_minor": 2
}
